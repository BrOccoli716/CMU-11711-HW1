{
 "cells": [
  {
   "cell_type": "code",
   "execution_count": 7,
   "id": "a23dec03",
   "metadata": {},
   "outputs": [],
   "source": [
    "def get(nums, i):\n",
    "\tif i == -1 or i == len(nums):\n",
    "\t\treturn -float('inf')\n",
    "\telse:\n",
    "\t\treturn nums[i]\n",
    "def find_top(nums):\n",
    "    if len(nums) == 0:\n",
    "        return -1\n",
    "    if len(nums) == 1:\n",
    "        return nums[0]\n",
    "    l, r = 0, len(nums) - 1\n",
    "    while l <= r:\n",
    "        mid = (l + r) // 2  # mid = l + (r – l) // 2\n",
    "        if get(nums, mid - 1) < get(nums, mid) > get(nums, mid + 1):\n",
    "            return mid\n",
    "        if get(nums, mid - 1) > get(nums, mid):\n",
    "            r = mid - 1\n",
    "        elif get(nums, mid + 1) > get(nums, mid):\n",
    "            l = mid + 1\n"
   ]
  },
  {
   "cell_type": "code",
   "execution_count": 5,
   "id": "4f9a2323",
   "metadata": {},
   "outputs": [
    {
     "data": {
      "text/plain": [
       "0"
      ]
     },
     "execution_count": 5,
     "metadata": {},
     "output_type": "execute_result"
    }
   ],
   "source": [
    "nums = [3, 1, 2, 4]\n",
    "find_top(nums)"
   ]
  }
 ],
 "metadata": {
  "kernelspec": {
   "display_name": "python39",
   "language": "python",
   "name": "python3"
  },
  "language_info": {
   "codemirror_mode": {
    "name": "ipython",
    "version": 3
   },
   "file_extension": ".py",
   "mimetype": "text/x-python",
   "name": "python",
   "nbconvert_exporter": "python",
   "pygments_lexer": "ipython3",
   "version": "3.9.18"
  }
 },
 "nbformat": 4,
 "nbformat_minor": 5
}
